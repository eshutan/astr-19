{
 "cells": [
  {
   "cell_type": "code",
   "execution_count": null,
   "id": "3d27af0a",
   "metadata": {},
   "outputs": [],
   "source": [
    "import numpy as np\n",
    "from astropy.table import Table"
   ]
  },
  {
   "cell_type": "markdown",
   "id": "7aee2bc1",
   "metadata": {},
   "source": [
    "This function will return sin(x)"
   ]
  },
  {
   "cell_type": "code",
   "execution_count": null,
   "id": "602097a6",
   "metadata": {},
   "outputs": [],
   "source": [
    "def retrnsin(x):\n",
    "    return np.sin(x)"
   ]
  },
  {
   "cell_type": "markdown",
   "id": "cfcf1c05",
   "metadata": {},
   "source": [
    "This function will return cos(x)"
   ]
  },
  {
   "cell_type": "code",
   "execution_count": null,
   "id": "3a232439",
   "metadata": {},
   "outputs": [],
   "source": [
    "def retrncos(x):\n",
    "    return np.cos(x)"
   ]
  },
  {
   "cell_type": "code",
   "execution_count": null,
   "id": "89bfc5cb",
   "metadata": {},
   "outputs": [],
   "source": [
    "#define x = to 1000 entries between 0 and 2pi\n",
    "\n",
    "x = np.linspace(0,2*np.pi,1000)\n",
    "\n",
    "#Tabulate sin(x) and cos(x) using defined functions above\n",
    "#vs x\n",
    "\n",
    "data = Table([retrnsin(x),retrncos(x),x], names = ['sin(x)','cos(x)','x'])"
   ]
  },
  {
   "cell_type": "code",
   "execution_count": null,
   "id": "4389b736",
   "metadata": {},
   "outputs": [],
   "source": [
    "#define an integer i = 0 and n = 10\n",
    "i = 0\n",
    "n = 10\n",
    "\n",
    "#use for loop to print out first 10 values of x, sin(x), and cos(x)\n",
    "\n",
    "for i in range(n):\n",
    "    print(data['sin(x)'][i], data['cos(x)'][i], data['x'][i])\n",
    "    i += 1"
   ]
  }
 ],
 "metadata": {
  "kernelspec": {
   "display_name": "Python 3 (ipykernel)",
   "language": "python",
   "name": "python3"
  },
  "language_info": {
   "codemirror_mode": {
    "name": "ipython",
    "version": 3
   },
   "file_extension": ".py",
   "mimetype": "text/x-python",
   "name": "python",
   "nbconvert_exporter": "python",
   "pygments_lexer": "ipython3",
   "version": "3.10.4"
  }
 },
 "nbformat": 4,
 "nbformat_minor": 5
}
