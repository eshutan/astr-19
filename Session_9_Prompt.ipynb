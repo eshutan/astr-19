{
 "cells": [
  {
   "cell_type": "code",
   "execution_count": 34,
   "id": "55f629f7",
   "metadata": {},
   "outputs": [],
   "source": [
    "import matplotlib.pyplot as plt\n",
    "import numpy as np\n",
    "%matplotlib inline"
   ]
  },
  {
   "cell_type": "code",
   "execution_count": 64,
   "id": "e42c01dd",
   "metadata": {},
   "outputs": [],
   "source": [
    "#Generate 1000 random numbers distributed uniformly between [0,1]\n",
    "x = np.random.rand(1000)"
   ]
  },
  {
   "cell_type": "code",
   "execution_count": 65,
   "id": "14085271",
   "metadata": {},
   "outputs": [
    {
     "data": {
      "image/png": "[encoded data removed]",
      "text/plain": [
       "<Figure size 432x288 with 1 Axes>"
      ]
     },
     "metadata": {
      "needs_background": "light"
     },
     "output_type": "display_data"
    }
   ],
   "source": [
    "#Create a histogram with 100 bins and labels\n",
    "\n",
    "width = 0.5\n",
    "histmin = np.floor(min(x))\n",
    "histmax = np.ceil(max(x)) + width\n",
    "\n",
    "bins = np.arange(histmin,histmax,width)\n",
    "plt.xlabel('x')\n",
    "plt.ylabel('N per Bin')\n",
    "\n",
    "#Plot and save as pdf\n",
    "plt.hist(x,bins=bins,alpha = 0.5, edgecolor = 'black')\n",
    "plt.savefig(\"Session_9_Prompt.pdf\",bbox_inches = \"tight\",facecolor = \"white\",dpi = 600)"
   ]
  },
  {
   "cell_type": "code",
   "execution_count": null,
   "id": "d19e1207",
   "metadata": {},
   "outputs": [],
   "source": []
  }
 ],
 "metadata": {
  "kernelspec": {
   "display_name": "Python 3 (ipykernel)",
   "language": "python",
   "name": "python3"
  },
  "language_info": {
   "codemirror_mode": {
    "name": "ipython",
    "version": 3
   },
   "file_extension": ".py",
   "mimetype": "text/x-python",
   "name": "python",
   "nbconvert_exporter": "python",
   "pygments_lexer": "ipython3",
   "version": "3.10.4"
  }
 },
 "nbformat": 4,
 "nbformat_minor": 5
}
