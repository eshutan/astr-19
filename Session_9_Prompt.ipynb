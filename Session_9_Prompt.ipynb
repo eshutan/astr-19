{
 "cells": [
  {
   "cell_type": "code",
   "execution_count": 1,
   "id": "855bf6b0",
   "metadata": {},
   "outputs": [],
   "source": [
    "import matplotlib.pyplot as plt\n",
    "import numpy as np\n",
    "%matplotlib inline"
   ]
  },
  {
   "cell_type": "code",
   "execution_count": 2,
   "id": "7dc8f1db",
   "metadata": {},
   "outputs": [],
   "source": [
    "#Generate 1000 random numbers distributed uniformly between [0,1]\n",
    "\n",
    "x = np.random.randn(1000)"
   ]
  },
  {
   "cell_type": "code",
   "execution_count": 22,
   "id": "83c3993f",
   "metadata": {},
   "outputs": [
    {
     "data": {
      "image/png": "[encoded data removed]",
      "text/plain": [
       "<Figure size 432x288 with 1 Axes>"
      ]
     },
     "metadata": {
      "needs_background": "light"
     },
     "output_type": "display_data"
    }
   ],
   "source": [
    "#Create a histogram with 100 bins and labels\n",
    "\n",
    "width = 0.5\n",
    "histmin = np.floor(min(x))\n",
    "histmax = np.ceil(max(x))\n",
    "\n",
    "bins = np.arange(histmin,histmax,width)\n",
    "plt.xlabel('x')\n",
    "plt.ylabel('N per Bin')\n",
    "\n",
    "#Plot and save as pdf\n",
    "plt.hist(x,bins=bins,alpha = 0.5, edgecolor = 'black')\n",
    "plt.savefig(\"Session_9_Prompt.pdf\",bbox_inches = \"tight\",facecolor = \"white\",dpi = 600)"
   ]
  },
  {
   "cell_type": "code",
   "execution_count": null,
   "id": "72fa304b",
   "metadata": {},
   "outputs": [],
   "source": []
  }
 ],
 "metadata": {
  "kernelspec": {
   "display_name": "Python 3 (ipykernel)",
   "language": "python",
   "name": "python3"
  },
  "language_info": {
   "codemirror_mode": {
    "name": "ipython",
    "version": 3
   },
   "file_extension": ".py",
   "mimetype": "text/x-python",
   "name": "python",
   "nbconvert_exporter": "python",
   "pygments_lexer": "ipython3",
   "version": "3.10.4"
  }
 },
 "nbformat": 4,
 "nbformat_minor": 5
}
