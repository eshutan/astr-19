{
 "cells": [
  {
   "cell_type": "code",
   "execution_count": 1,
   "id": "ff5c93e7",
   "metadata": {},
   "outputs": [],
   "source": [
    "import matplotlib.pyplot as plt\n",
    "import numpy as np\n",
    "%matplotlib inline"
   ]
  },
  {
   "cell_type": "code",
   "execution_count": 2,
   "id": "60ef71d0",
   "metadata": {},
   "outputs": [],
   "source": [
    "#Random number functions \n",
    "x1 = np.random.randn(1000)\n",
    "x2 = np.random.randint(1,100,1000)\n",
    "x3 = np.random.power(5,1000)\n",
    "x4 = np.random.poisson(5,1000)\n",
    "x5 = np.random.pareto(5,1000)"
   ]
  },
  {
   "cell_type": "code",
   "execution_count": 4,
   "id": "fdb3d20e",
   "metadata": {},
   "outputs": [
    {
     "data": {
      "image/png": "[encoded data removed]",
      "text/plain": [
       "<Figure size 432x288 with 1 Axes>"
      ]
     },
     "metadata": {
      "needs_background": "light"
     },
     "output_type": "display_data"
    }
   ],
   "source": [
    "#Create a histogram of poisson numbers with 100 bins and labels\n",
    "\n",
    "width = 1\n",
    "histmin = np.floor(min(x4))\n",
    "histmax = np.ceil(max(x4)) + width\n",
    "\n",
    "bins = np.arange(histmin,histmax,width)\n",
    "plt.xlabel('x4')\n",
    "plt.ylabel('N per Bin')\n",
    "\n",
    "#Plot and save as pdf\n",
    "plt.hist(x4,bins=bins,alpha = 1, edgecolor = 'black')\n",
    "plt.savefig(\"Session_10_Prompt.pdf\",bbox_inches = \"tight\",facecolor = \"white\",dpi = 600)"
   ]
  },
  {
   "cell_type": "code",
   "execution_count": null,
   "id": "37c4e407",
   "metadata": {},
   "outputs": [],
   "source": []
  }
 ],
 "metadata": {
  "kernelspec": {
   "display_name": "Python 3 (ipykernel)",
   "language": "python",
   "name": "python3"
  },
  "language_info": {
   "codemirror_mode": {
    "name": "ipython",
    "version": 3
   },
   "file_extension": ".py",
   "mimetype": "text/x-python",
   "name": "python",
   "nbconvert_exporter": "python",
   "pygments_lexer": "ipython3",
   "version": "3.10.4"
  }
 },
 "nbformat": 4,
 "nbformat_minor": 5
}
