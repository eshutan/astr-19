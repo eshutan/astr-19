{
 "cells": [
  {
   "cell_type": "code",
   "execution_count": 1,
   "id": "fddc8778",
   "metadata": {},
   "outputs": [],
   "source": [
    "import matplotlib.pyplot as plt\n",
    "import numpy as np"
   ]
  },
  {
   "cell_type": "code",
   "execution_count": 3,
   "id": "39df679f",
   "metadata": {},
   "outputs": [],
   "source": [
    "#Creates array x ranging from [0,1] in 100 steps\n",
    "x = np.linspace(0,1,100)"
   ]
  },
  {
   "cell_type": "code",
   "execution_count": 4,
   "id": "cf5965ab",
   "metadata": {},
   "outputs": [],
   "source": [
    "#Defines functions that return sin(x) and cos(x)\n",
    "def retursin(x):\n",
    "    return np.sin(x)\n",
    "def returcos(x):\n",
    "    return np.cos(x)"
   ]
  },
  {
   "cell_type": "code",
   "execution_count": 5,
   "id": "68d86e87",
   "metadata": {},
   "outputs": [
    {
     "data": {
      "image/png": "[encoded data removed]",
      "text/plain": [
       "<Figure size 432x288 with 2 Axes>"
      ]
     },
     "metadata": {
      "needs_background": "light"
     },
     "output_type": "display_data"
    }
   ],
   "source": [
    "#create a multipanel plot of 1 row and 2 columns\n",
    "#plotting sin(x) vs x in the left panel \n",
    "#and cos(x) vs x in the right panel.\n",
    "\n",
    "f, axarr = plt.subplots(1,2)\n",
    "\n",
    "#first panel\n",
    "axarr[0].plot(x,retursin(x))\n",
    "axarr[0].set_xlabel('x')\n",
    "axarr[0].set_ylabel('sin(x)')\n",
    "axarr[0].set_title('sin(x)')\n",
    "\n",
    "#second panel\n",
    "axarr[1].plot(x,returcos(x))\n",
    "axarr[1].set_xlabel('x')\n",
    "axarr[1].set_ylabel('cos(x)')\n",
    "axarr[1].set_title('cos(x)')\n",
    "\n",
    "plt.savefig('Session_8_Prompt.png', bbox_inches = 'tight', dpi = 600)"
   ]
  },
  {
   "cell_type": "code",
   "execution_count": null,
   "id": "b5ee792c",
   "metadata": {},
   "outputs": [],
   "source": []
  }
 ],
 "metadata": {
  "kernelspec": {
   "display_name": "Python 3 (ipykernel)",
   "language": "python",
   "name": "python3"
  },
  "language_info": {
   "codemirror_mode": {
    "name": "ipython",
    "version": 3
   },
   "file_extension": ".py",
   "mimetype": "text/x-python",
   "name": "python",
   "nbconvert_exporter": "python",
   "pygments_lexer": "ipython3",
   "version": "3.10.4"
  }
 },
 "nbformat": 4,
 "nbformat_minor": 5
}
